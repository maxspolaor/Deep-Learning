{
 "cells": [
  {
   "cell_type": "markdown",
   "metadata": {},
   "source": [
    "## Code based on PyTorch Tensors example ##\n",
    "### https://pytorch.org/tutorials/beginner/basics/tensorqs_tutorial.html ###\n",
    "\n",
    "#### Sections:\n",
    "- [Initializing a Tensor](#initialize)\n",
    "- [Attributes of a Tensor](#attributes)\n",
    "- [Operations on Tensors](#operations)\n",
    "- [Bridge with NumPy](#bridge)\n",
    "####"
   ]
  },
  {
   "cell_type": "markdown",
   "metadata": {},
   "source": [
    "<a id=\"initialize\"></a>\n",
    "### Initializing a Tensor ###"
   ]
  },
  {
   "cell_type": "code",
   "execution_count": null,
   "metadata": {},
   "outputs": [
    {
     "name": "stdout",
     "output_type": "stream",
     "text": [
      "tensor([[1, 2],\n",
      "        [3, 4]])\n",
      "torch.Size([2, 2])\n",
      "torch.int64\n",
      "--------------- ---------------\n",
      "tensor([[1, 2],\n",
      "        [3, 4]])\n",
      "torch.Size([2, 2])\n",
      "torch.int64\n",
      "--------------- ---------------\n",
      "Ones Tensor:  \n",
      " tensor([[1, 1],\n",
      "        [1, 1]]) \n",
      "\n",
      "--------------- ---------------\n",
      "Random Tensor: \n",
      " tensor([[0.8320, 0.8260],\n",
      "        [0.3319, 0.2687]]) \n",
      "\n"
     ]
    }
   ],
   "source": [
    "#Tensors: specialized data structure. Similar to numpy ndarray. Used to encode the inputs and otput of a model and mdel parameters.\n",
    "#Tensors and NumPy arrays can often share the same underlying memory, eliminating the need to copy data \n",
    "#Tensors are similar to numpy ndarrays but can run on GPU and have automatic differentiation capabilities.\n",
    "\n",
    "import torch\n",
    "import numpy as np\n",
    "\n",
    "data = [[1, 2], [3, 4]]\n",
    "\n",
    "#Initialize a tensor directly from data\n",
    "x_data = torch.tensor(data)\n",
    "print(x_data)\n",
    "print(x_data.shape) #Print the shape of the tensor\n",
    "print(x_data.dtype) #Print the datatype of the tensor\n",
    "print(\"--------------- ---------------\")\n",
    "\n",
    "\n",
    "#Initialize a tensor from a NumPy array (and vice versa)\n",
    "np_array = np.array(data)\n",
    "x_np = torch.from_numpy(np_array)\n",
    "print(x_np)\n",
    "print(x_np.shape) #Print the shape of the tensor\n",
    "print(x_np.dtype) #Print the datatype of the tensor\n",
    "print(\"--------------- ---------------\")\n",
    "\n",
    "\n",
    "#Initialize a tensor from another tensor\n",
    "#The new tensor retains the properties (shape, datatype) of the argument tensor, unless explicitly overridden.\n",
    "x_ones = torch.ones_like(x_data) \n",
    "print(f\"Ones Tensor:  \\n {x_ones} \\n\")\n",
    "print(\"--------------- ---------------\")\n",
    "x_rand = torch.rand_like(x_data, dtype=torch.float) # overrides the datatype of x_data!\n",
    "print(f\"Random Tensor: \\n {x_rand} \\n\")\n",
    "\n",
    "\n",
    "#Create a tensor with random or constant values\n",
    "#shape is a tuple of tensor dimensions. In the functions below, it determines the dimensionality of the output tensor.\n",
    "\n",
    "shape = (2, 3,) # shape of the tensor\n",
    "rand_tensor = torch.rand(shape) # random tensor\n",
    "ones_tensor = torch.ones(shape) # tensor of ones\n",
    "zeros_tensor = torch.zeros(shape) # tensor of zeros\n",
    "print(f\"Random Tensor: \\n {rand_tensor} \\n\")\n",
    "print(f\"Ones Tensor: \\n {ones_tensor} \\n\")\n",
    "print(f\"Zeros Tensor: \\n {zeros_tensor} \\n\")\n",
    "print(\"--------------- ---------------\")"
   ]
  }
 ],
 "metadata": {
  "kernelspec": {
   "display_name": "Python 3",
   "language": "python",
   "name": "python3"
  },
  "language_info": {
   "codemirror_mode": {
    "name": "ipython",
    "version": 3
   },
   "file_extension": ".py",
   "mimetype": "text/x-python",
   "name": "python",
   "nbconvert_exporter": "python",
   "pygments_lexer": "ipython3",
   "version": "3.13.1"
  }
 },
 "nbformat": 4,
 "nbformat_minor": 2
}
